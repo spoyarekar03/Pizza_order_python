{
 "cells": [
  {
   "cell_type": "code",
   "execution_count": 1,
   "id": "4d875cb6",
   "metadata": {},
   "outputs": [
    {
     "name": "stdout",
     "output_type": "stream",
     "text": [
      "Welcome to Python Pizza!\n",
      "Enter the size of pizza you want (S,M,L): l\n",
      "Do you want pepperoni? (Y or N): y\n",
      "Do you want extra cheese? (Y or N): y\n",
      "The total price for pizza is 29\n"
     ]
    }
   ],
   "source": [
    "print(\"Welcome to Python Pizza!\")\n",
    "\n",
    "size=input(\"Enter the size of pizza you want (S,M,L): \")\n",
    "add_pepperoni= input(\"Do you want pepperoni? (Y or N): \") \n",
    "extra_cheese=input(\"Do you want extra cheese? (Y or N): \") \n",
    "\n",
    "small_pizza=15\n",
    "medium_pizza=20\n",
    "large_pizza=25\n",
    "\n",
    "pepperoni_for_small=2\n",
    "pepperoni_for_medium_large=3\n",
    "\n",
    "total_price=0\n",
    "\n",
    "cheese=1\n",
    "\n",
    "if size.lower() == \"s\":\n",
    "    if add_pepperoni.lower() == \"y\" and extra_cheese.lower() == \"y\" :\n",
    "        total_price=small_pizza + pepperoni_for_small + cheese \n",
    "    elif add_pepperoni.lower() == \"y\":\n",
    "        total_price = small_pizza + pepperoni_for_small\n",
    "    elif extra_cheese.lower() == \"y\":\n",
    "        total_price= small_pizza + cheese\n",
    "    else:\n",
    "        total_price = small_pizza\n",
    "elif size.lower() == \"m\":\n",
    "    if add_pepperoni.lower() == \"y\" and extra_cheese.lower() == \"y\" :\n",
    "        total_price=medium_pizza + pepperoni_for_medium_large + cheese \n",
    "    elif add_pepperoni.lower() == \"y\":\n",
    "        total_price = medium_pizza + pepperoni_for_medium_large\n",
    "    elif extra_cheese.lower() == \"y\":\n",
    "        total_price= medium_pizza + cheese\n",
    "    else:\n",
    "        total_price= medium_pizza\n",
    "elif size.lower() == \"l\":\n",
    "    if add_pepperoni.lower() == \"y\" and extra_cheese.lower() == \"y\" :\n",
    "        total_price=large_pizza + pepperoni_for_medium_large + cheese \n",
    "    elif add_pepperoni.lower() == \"y\":\n",
    "        total_price = large_pizza + pepperoni_for_medium_large\n",
    "    elif extra_cheese.lower() == \"y\":\n",
    "        total_price= large_pizza + cheese\n",
    "    else:\n",
    "        total_price= large_pizza\n",
    "print(\"The total price for pizza is\",total_price)"
   ]
  },
  {
   "cell_type": "code",
   "execution_count": null,
   "id": "7ffc5fbc",
   "metadata": {},
   "outputs": [],
   "source": []
  }
 ],
 "metadata": {
  "kernelspec": {
   "display_name": "Python 3 (ipykernel)",
   "language": "python",
   "name": "python3"
  },
  "language_info": {
   "codemirror_mode": {
    "name": "ipython",
    "version": 3
   },
   "file_extension": ".py",
   "mimetype": "text/x-python",
   "name": "python",
   "nbconvert_exporter": "python",
   "pygments_lexer": "ipython3",
   "version": "3.9.12"
  }
 },
 "nbformat": 4,
 "nbformat_minor": 5
}
